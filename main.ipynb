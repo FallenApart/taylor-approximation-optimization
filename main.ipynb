{
 "cells": [
  {
   "cell_type": "markdown",
   "metadata": {},
   "source": [
    "## Approximation of the natural logarithm using Taylor series. Optimizing the algorithm."
   ]
  },
  {
   "cell_type": "markdown",
   "metadata": {},
   "source": [
    "**Simple problem.** Given $x>0$, approximate the natural logarithm at $x$ with a fixed error $\\varepsilon$ using Taylor series."
   ]
  },
  {
   "cell_type": "markdown",
   "metadata": {},
   "source": [
    "**Taylor Series of the natural logarithm.** If $p>0$, then for any $x\\in (0,2p)$ we have that\n",
    "$$\\ln(x)=\\ln(p) - \\sum_{i=1}^\\infty\\frac{1}{i}\\left(\\frac{p-x}{p}\\right)^i.$$\n",
    "Thus, the radius of convergence of the above power series is $p$."
   ]
  },
  {
   "cell_type": "markdown",
   "metadata": {},
   "source": [
    "**Important rule.** By looking at the above formula, we notice that the very first term is $\\ln(p)$. Obviously, we forbid ourselves to use logarithm in this series. Hence, we constrain ourselves to $p$ of the form $e^K$, where $K$ can be any integer."
   ]
  },
  {
   "cell_type": "markdown",
   "metadata": {},
   "source": [
    "**Taylor expansion of a real analytic function.** Let $U$ be an open subset of real numbers and let $f:U\\to\\mathbb{R}$ be an analytic function. For any $p\\in U$ there is an interval $W\\subset U$ containing $p$ such that for any $x\\in W$,\n",
    "$$f(x)=\\sum_{i=0}^\\infty\\frac{f^{(i)}(p)}{i!}(x-p)^i.$$\n",
    "In particular, for any natural number $n\\geqslant 1$, there is a function $R_n:W\\to\\mathbb{R}$ such that for any $x\\in W$, \n",
    "$$f(x)=\\sum_{i=0}^n\\frac{f^{(i)}(p)}{i!}(x-p)^i+R_n(x)$$\n",
    "and $\\displaystyle{\\lim_{n \\to \\infty} R_n(x) = 0}$.\n",
    "\n",
    "Maximal such interval $W$ is called the interval of convergence and it is of the form $(p-r, p+r)$, where $r\\in (0, \\infty ]$ is the radius of convergence of the power series\n",
    "$$\\sum_{i=0}^\\infty\\frac{f^{(i)}(p)}{i!}(x-p)^i.$$"
   ]
  },
  {
   "cell_type": "markdown",
   "metadata": {},
   "source": [
    "**Error estimation problem.** Due to the Taylor formula, we only know that for any natural number $n$,\n",
    "$$\\left|f(x) - \\sum_{i=0}^n\\frac{f^{(i)}(p)}{i!}(x-p)^i \\right|\\leqslant \\left|R_n(x)\\right|$$\n",
    "and since $\\displaystyle{\\lim_{n \\to \\infty} R_n(x) = 0}$, we have that the left hand side converges to $0$ when $n\\to\\infty$. Thus, the series\n",
    "$$\\sum_{i=0}^\\infty\\frac{f^{(i)}(p)}{i!}(x-p)^i$$\n",
    "converges to $f(x)$, but a priori we do not know nothing about how fast is this convergence. The following proposition gives us a sufficeint condition for an effective estimation on the rest $R_n(x)$."
   ]
  },
  {
   "cell_type": "markdown",
   "metadata": {},
   "source": [
    "**Proposition.** Assume that $$ \\sum_{i=1}^\\infty b_i $$ is a series of real numbers convergent to $S$. For each $n\\in\\mathbb{N}$, let $S_n$ denote the $n$-th partial sum of this series and let $R_n = S - S_n$ be the rest. If for some $n\\in\\mathbb{N}$, there is a real number $\\alpha\\in (0,1)$ such that $|b_{i+1}|\\leqslant\\alpha |b_i|$ for all $i\\geqslant n$, then $$|R_n|\\leqslant\\frac{|b_{n+1}|}{1-\\alpha}.$$"
   ]
  },
  {
   "cell_type": "markdown",
   "metadata": {},
   "source": [
    "**Error estimation.** Let us apply the above proposition to the our case of the natural logarithm. Assume that $p>0$ and $x\\in (0,2p)$ are fixed. Thus, we have a series $$\\sum_{i=1}^\\infty b_i,$$ where \n",
    "$$b_i = \\frac{1}{i}\\left(\\frac{p-x}{p}\\right)^i.$$ \n",
    "Hence, \n",
    "$$\\frac{|b_{i+1}|}{|b_i|} = \\frac{i}{i+1}\\left|\\frac{x-p}{p}\\right|=\\frac{i}{i+1}\\left|\\frac{x}{p}-1\\right|.$$ \n",
    "Notice yet that\n",
    "$$x\\in(0,2p)\\implies \\frac{x}{p}\\in (0,2) \\implies \\frac{x}{p}-1\\in(-1,1) \\implies \\left|\\frac{x}{p}-1\\right|<1\\implies \\frac{i}{i+1}\\left|\\frac{x}{p}-1\\right|<1.$$\n",
    "As a result, there is\n",
    "$$\\alpha = \\left|\\frac{x}{p}-1\\right|<1$$\n",
    "such that $|b_{i+1}|\\leqslant \\alpha |b_i|$ for all $i\\geqslant 1$. By applying the above proposition, we get that\n",
    "$$|R_n|\\leqslant \\frac{|b_{n+1}|}{1-\\alpha}$$\n",
    "for all $n\\geqslant 1$. But since $|b_{n}| = \\frac{\\alpha^n}{n}$, we obtain that\n",
    "$$|R_n|\\leqslant \\frac{\\alpha^{n+1}}{(n+1)(1-\\alpha)}.$$"
   ]
  },
  {
   "cell_type": "markdown",
   "metadata": {},
   "source": [
    "**Main algorithm.** From the above analysis, we have the following algorithm which computes $\\ln(x)$ with an error less than $\\varepsilon$ starting from $p=e^K$. It also outputs the number of steps required to achieve a desired approximation."
   ]
  },
  {
   "cell_type": "code",
   "execution_count": 1,
   "metadata": {
    "collapsed": true
   },
   "outputs": [],
   "source": [
    "import numpy as np\n",
    "\n",
    "def approx(x, K, eps, maxSteps):\n",
    "    p = np.exp(K);\n",
    "    factor = (p-x)/p;\n",
    "    alpha = abs(factor);\n",
    "    sum = K;\n",
    "    n = 0;\n",
    "    bn = factor;\n",
    "    bound = abs(bn)/(1-alpha);\n",
    "    while (bound > eps):\n",
    "        n = n + 1;\n",
    "        sum = sum - bn;\n",
    "        bn = bn*(n/(n+1))*factor;\n",
    "        bound = abs(bn)/(1-alpha);\n",
    "        if (n >= maxSteps):\n",
    "            return ['Overflow!', maxSteps]\n",
    "    return [sum, n]"
   ]
  },
  {
   "cell_type": "markdown",
   "metadata": {},
   "source": [
    "For the sake of the readability, let us format the output to a more convenient form."
   ]
  },
  {
   "cell_type": "code",
   "execution_count": 2,
   "metadata": {
    "collapsed": true
   },
   "outputs": [],
   "source": [
    "def approxMsg(x, K, eps, maxSteps):\n",
    "    output = approx(x, K, eps, maxSteps);\n",
    "    if isinstance(output[0], str):\n",
    "        return print(output[0] + ' In order to compute ln(' + str(x) + ') with an error less than ' + str(eps) + ' starting from p = exp(' + str(K) + ') more than ' + str(maxSteps) + ' are required.')\n",
    "    else:\n",
    "        sum = output[0];\n",
    "        n = output[1];\n",
    "        return print('Starting from p = exp(' + str(K) + '), we get that ln(' + str(x) + ') = ' + str(sum) + ' with an error less than ' + str(eps) + ' and it was is done in ' + str(n) + ' steps.')"
   ]
  },
  {
   "cell_type": "code",
   "execution_count": 3,
   "metadata": {},
   "outputs": [
    {
     "name": "stdout",
     "output_type": "stream",
     "text": [
      "Starting from p = exp(0), we get that ln(1.9) = 0.641805574241 with an error less than 0.001 and it was is done in 50 steps.\n",
      "Starting from p = exp(1), we get that ln(3.2) = 1.16312033692 with an error less than 0.0001 and it was is done in 4 steps.\n"
     ]
    }
   ],
   "source": [
    "approxMsg(1.9, 0, 0.001, 100);\n",
    "approxMsg(3.2, 1, 0.0001, 100);"
   ]
  },
  {
   "cell_type": "markdown",
   "metadata": {},
   "source": [
    "**$x$ must be in $(0,2p)$.** In fact, for $x > 2p$, the series\n",
    "$$\\sum_{i=1}^\\infty\\frac{1}{i}\\left(\\frac{p-x}{p}\\right)^i$$\n",
    "diverges and so we have to make sure that $x > 2e^K = 2p$ when we call procedure ```approxSteps```. For example if $x=4,5$, then we have to take at least $K=1.$ Below we have a comparison of intervals of convergence for $p=1$ and $p=e^1$. "
   ]
  },
  {
   "cell_type": "code",
   "execution_count": 4,
   "metadata": {},
   "outputs": [
    {
     "data": {
      "image/png": "[encoded data removed]",
      "text/plain": [
       "<matplotlib.figure.Figure at 0x1d983cdde48>"
      ]
     },
     "metadata": {},
     "output_type": "display_data"
    }
   ],
   "source": [
    "import matplotlib.pyplot as plt\n",
    "\n",
    "x = np.linspace(0.1, 5,200)\n",
    "\n",
    "ax = plt.subplots(figsize=(15, 4)) \n",
    "\n",
    "plt.subplot(1, 2, 1)\n",
    "\n",
    "plt.plot(x, np.log(x), label='natural logarithm $\\ln$')\n",
    "plt.plot([2, 0], [0, 0], color = 'g', linewidth = 3, label = 'interval of convergence')\n",
    "plt.scatter([1],[0], marker = '|', s = 300, color = 'r', label = '$p = 1$')\n",
    "plt.scatter([4.5],[0], marker = '|', s = 300, color = 'c', label = '$x = 4.5$')\n",
    "\n",
    "ax = plt.gca()\n",
    "\n",
    "ax.spines['right'].set_color('none')\n",
    "ax.spines['top'].set_color('none')\n",
    "ax.spines['left'].set_position('zero')\n",
    "ax.spines['bottom'].set_position('zero')\n",
    "ax.grid(True, which='both')\n",
    "\n",
    "plt.xticks(np.linspace(0,6,7))\n",
    "\n",
    "plt.title('$x$ is outside the interval of convergence')\n",
    "plt.legend(loc = 4)\n",
    "\n",
    "plt.subplot(1, 2, 2)\n",
    "\n",
    "plt.plot(x, np.log(x), label='natural logarithm $\\ln$')\n",
    "plt.plot([2*np.exp(1), 0], [0, 0], color = 'g', linewidth = 3, label = 'interval of convergence')\n",
    "plt.scatter([np.exp(1)],[0], marker = '|', s = 300, color = 'r', label = '$p = e^1$')\n",
    "plt.scatter([4.5],[0], marker = '|', s = 300, color = 'c', label = '$x = 4.5$')\n",
    "\n",
    "ax = plt.gca()\n",
    "\n",
    "ax.spines['right'].set_color('none')\n",
    "ax.spines['top'].set_color('none')\n",
    "ax.spines['left'].set_position('zero')\n",
    "ax.spines['bottom'].set_position('zero')\n",
    "ax.grid(True, which='both')\n",
    "\n",
    "plt.xticks(np.linspace(0,6,7))\n",
    "\n",
    "plt.title('$x$ is inside the interval of convergence')\n",
    "plt.legend(loc = 4)\n",
    "\n",
    "plt.show()"
   ]
  },
  {
   "cell_type": "code",
   "execution_count": 5,
   "metadata": {},
   "outputs": [
    {
     "name": "stdout",
     "output_type": "stream",
     "text": [
      "Starting from p = exp(1), we get that ln(4.5) = 1.50409449458 with an error less than 0.0001 and it was is done in 17 steps.\n"
     ]
    }
   ],
   "source": [
    "approxMsg(4.5, 1, 0.0001, 100);"
   ]
  },
  {
   "cell_type": "markdown",
   "metadata": {
    "collapsed": true
   },
   "source": [
    "**Worst-case scenarios.** If $x$ is close to an edge of the interval of convergence $(0,2p)$, then $\\alpha$ is close to $1$ and thus the Taylor series converges very slowly. In fact, for $x=1.999$ and $p=e^0=1$, we need over $1000$ steps to get the approximation with an error less then $\\varepsilon = 0.1$, which is quite poor."
   ]
  },
  {
   "cell_type": "code",
   "execution_count": 6,
   "metadata": {},
   "outputs": [
    {
     "name": "stdout",
     "output_type": "stream",
     "text": [
      "Overflow! In order to compute ln(1.999) with an error less than 0.1 starting from p = exp(0) more than 1000 are required.\n",
      "Starting from p = exp(0), we get that ln(1.999) = 0.692597018308 with an error less than 0.1 and it was is done in 1744 steps.\n"
     ]
    }
   ],
   "source": [
    "approxMsg(1.999, 0, 0.1, 1000);\n",
    "approxMsg(1.999, 0, 0.1, 10000);"
   ]
  },
  {
   "cell_type": "markdown",
   "metadata": {},
   "source": [
    "In the above case, it is much better to take $p=e^1$. In fact, the procedure ```approxSteps``` requires only 4 steps to compute the value of $\\ln(1.999)$ with an error less than $0.001$."
   ]
  },
  {
   "cell_type": "code",
   "execution_count": 7,
   "metadata": {},
   "outputs": [
    {
     "name": "stdout",
     "output_type": "stream",
     "text": [
      "Starting from p = exp(1), we get that ln(1.999) = 0.692980624253 with an error less than 0.001 and it was is done in 4 steps.\n"
     ]
    }
   ],
   "source": [
    "approxMsg(1.999, 1, 0.001, 100);"
   ]
  },
  {
   "cell_type": "markdown",
   "metadata": {},
   "source": [
    " A similar situation happens for a very small $x$."
   ]
  },
  {
   "cell_type": "code",
   "execution_count": 8,
   "metadata": {},
   "outputs": [
    {
     "name": "stdout",
     "output_type": "stream",
     "text": [
      "Overflow! In order to compute ln(0.01) with an error less than 0.0001 starting from p = exp(0) more than 100 are required.\n",
      "Starting from p = exp(0), we get that ln(0.01) = -4.60508217845 with an error less than 0.0001 and it was is done in 720 steps.\n"
     ]
    }
   ],
   "source": [
    "approxMsg(0.01, 0, 0.0001, 100);\n",
    "approxMsg(0.01, 0, 0.0001, 1000);"
   ]
  },
  {
   "cell_type": "markdown",
   "metadata": {},
   "source": [
    "The next figure shows how $x=0.01$ is close to points $p=1$ and $p=e^{-5}$."
   ]
  },
  {
   "cell_type": "code",
   "execution_count": 9,
   "metadata": {},
   "outputs": [
    {
     "data": {
      "image/png": "[encoded data removed]",
      "text/plain": [
       "<matplotlib.figure.Figure at 0x1d984ecb940>"
      ]
     },
     "metadata": {},
     "output_type": "display_data"
    }
   ],
   "source": [
    "x = np.linspace(0.0025, 2,200)\n",
    "x2 = np.linspace(0.0025, 0.105,200)\n",
    "\n",
    "ax = plt.subplots(figsize=(15, 4)) \n",
    "\n",
    "plt.subplot(1, 2, 1)\n",
    "\n",
    "plt.plot(x, np.log(x), label='natural logarithm $\\ln$')\n",
    "plt.plot([2, 0], [0, 0], color = 'g', linewidth = 3, label = 'interval of convergence')\n",
    "plt.scatter([1],[0], marker = '|', s = 300, color = 'r', label = '$p = 1$')\n",
    "plt.scatter([0.01],[0], marker = '|', s = 300, color = 'c', label = '$x = 0.01$')\n",
    "\n",
    "ax = plt.gca()\n",
    "\n",
    "ax.spines['right'].set_color('none')\n",
    "ax.spines['top'].set_color('none')\n",
    "ax.spines['left'].set_position('zero')\n",
    "ax.spines['bottom'].set_position('zero')\n",
    "ax.grid(True, which='both')\n",
    "\n",
    "plt.xticks(np.linspace(0,2,11))\n",
    "\n",
    "plt.title('$x$ is far from $p$')\n",
    "plt.legend(loc = 4)\n",
    "\n",
    "plt.subplot(1, 2, 2)\n",
    "\n",
    "plt.plot(x2, np.log(x2), label='natural logarithm $\\ln$')\n",
    "plt.plot([2*np.exp(-5), 0], [0, 0], color = 'g', linewidth = 3, label = 'interval of convergence')\n",
    "plt.scatter([np.exp(-5)],[0], marker = '|', s = 300, color = 'r', label = '$p = e^{-5}$')\n",
    "plt.scatter([0.01],[0], marker = '|', s = 300, color = 'c', label = '$x = 0.01$')\n",
    "\n",
    "ax = plt.gca()\n",
    "\n",
    "ax.spines['right'].set_color('none')\n",
    "ax.spines['top'].set_color('none')\n",
    "ax.spines['left'].set_position('zero')\n",
    "ax.spines['bottom'].set_position('zero')\n",
    "ax.grid(True, which='both')\n",
    "\n",
    "plt.xticks(np.linspace(0,0.1,11))\n",
    "\n",
    "plt.title('$x$ is close to $p$')\n",
    "plt.legend(loc = 4)\n",
    "\n",
    "plt.show()"
   ]
  },
  {
   "cell_type": "markdown",
   "metadata": {},
   "source": [
    "If we compare\n",
    "$$\\alpha = \\left|\\frac{x}{p}-1\\right|$$\n",
    "for $x=0.01$ and $p=1$ vs $p=e^{-5}$, then we get that $\\alpha$ is significantly smaller in the latter case. "
   ]
  },
  {
   "cell_type": "code",
   "execution_count": 10,
   "metadata": {},
   "outputs": [
    {
     "name": "stdout",
     "output_type": "stream",
     "text": [
      "0.99\n",
      "0.484131591026\n"
     ]
    }
   ],
   "source": [
    "x = 0.01;\n",
    "p = 1;\n",
    "print(np.abs(x/p - 1));\n",
    "p = np.exp(-5);\n",
    "print(np.abs(x/p - 1));"
   ]
  },
  {
   "cell_type": "markdown",
   "metadata": {},
   "source": [
    "Thus, we have that the procedure ```approxSteps``` with $p=e^{-5}$ outruns the one with $p=1$."
   ]
  },
  {
   "cell_type": "code",
   "execution_count": 11,
   "metadata": {},
   "outputs": [
    {
     "name": "stdout",
     "output_type": "stream",
     "text": [
      "Starting from p = exp(0), we get that ln(0.01) = -4.59720021769 with an error less than 0.01 and it was is done in 337 steps.\n",
      "Starting from p = exp(-5), we get that ln(0.01) = -4.60365065658 with an error less than 0.01 and it was is done in 5 steps.\n"
     ]
    }
   ],
   "source": [
    "approxMsg(0.01, 0, 0.01, 1000);\n",
    "approxMsg(0.01, -5, 0.01, 1000);"
   ]
  },
  {
   "cell_type": "markdown",
   "metadata": {},
   "source": [
    "**Advanced problem.** Given a point $x$, find $p=e^K$ such that for every error $\\varepsilon$, the procedure ```approxSteps``` terminates in the least amount of steps."
   ]
  },
  {
   "cell_type": "markdown",
   "metadata": {},
   "source": [
    "**Optimization.** Assume that $x\\in (e^K,2e^K)$ for some $K\\geqslant 0$. For such $x$, we have to choose $p=e^K$ or $p=e^{K+1}$ to optimize ```approxSteps```. The natural question arises. For how big $x$ we should take $p=e^{K+1}$? We choose $p$, so that $\\left|\\frac{x-p}{r}\\right|$ is the smallest, where $r$ is the radius of the convergence of the Taylor series of $\\ln$ expanded at $p$. Since $x\\in (e^K,2e^K)$, we have that $x=Ce^K$ for some $C\\in (1,2)$. Thus, we look for $C_0\\in(1,2)$ such that\n",
    "$$\\frac{C_0e^K-e^K}{e^K} = \\frac{e^{K+1} - C_0e^K}{e^{K+1}}.$$\n",
    "Form the above, we obtain that $C_0=\\frac{2e}{e+1}$. Fortunately, $C_0$ is independent of $K$ and so it very easy to determine which $p$ should be taken. We just choose $p = e^K$, where $K$ is the least natural number such that $C_0 e^K > x$. Similarly, if $x<1$, then we have an analogous reasoning and we just choose the greatest integer $K$ such that $C_0 e^{K-1} \\leqslant x$ "
   ]
  },
  {
   "cell_type": "markdown",
   "metadata": {},
   "source": [
    "**It is important to notice,** that we did **not** prove that $C_0$ is the best choice. We only used some heuristic reasoning to obtain this number $C_0$. Hence, we will test if there are other better choices for $C$. Just below we have a procedure ```setCenter``` which takes $x$, $C\\in (1,2)$ and returns $K$ such that $x\\in [Ce^{K-1}, Ce^K)$."
   ]
  },
  {
   "cell_type": "code",
   "execution_count": 12,
   "metadata": {
    "collapsed": true
   },
   "outputs": [],
   "source": [
    "def setCenter(x,C):\n",
    "    K = 0;\n",
    "    if (x >= 1):\n",
    "        while (C*np.exp(K) <= x):\n",
    "            K = K + 1\n",
    "    else:\n",
    "        while (C*np.exp(K - 1) > x):\n",
    "            K = K - 1\n",
    "    return K"
   ]
  },
  {
   "cell_type": "markdown",
   "metadata": {},
   "source": [
    "Let us see if this approach actually works."
   ]
  },
  {
   "cell_type": "code",
   "execution_count": 13,
   "metadata": {
    "collapsed": true
   },
   "outputs": [],
   "source": [
    "eps = 0.000001;\n",
    "maxSteps = 100;\n",
    "C0 = 2 * np.exp(1) / (1 + np.exp(1));\n",
    "\n",
    "def setCenterAndApprox(x, eps, maxSteps, C):\n",
    "    K = setCenter(x, C);\n",
    "    return approx(x, K, eps, maxSteps)\n",
    "\n",
    "def improvedApproxMsg(x, eps, maxSteps, C):\n",
    "    K = setCenter(x, C);\n",
    "    return approxMsg(x, K, eps, maxSteps)"
   ]
  },
  {
   "cell_type": "code",
   "execution_count": 14,
   "metadata": {},
   "outputs": [
    {
     "name": "stdout",
     "output_type": "stream",
     "text": [
      "Starting from p = exp(1), we get that ln(1.999) = 0.692647983927 with an error less than 1e-06 and it was is done in 8 steps.\n",
      "Starting from p = exp(-9), we get that ln(0.0001) = -9.2103401198 with an error less than 1e-06 and it was is done in 7 steps.\n",
      "Starting from p = exp(6), we get that ln(383) = 5.94803505871 with an error less than 1e-06 and it was is done in 4 steps.\n"
     ]
    }
   ],
   "source": [
    "improvedApproxMsg(1.999, eps, maxSteps, C0);\n",
    "improvedApproxMsg(0.0001, eps, maxSteps, C0);\n",
    "improvedApproxMsg(383, eps, maxSteps, C0);"
   ]
  },
  {
   "cell_type": "markdown",
   "metadata": {},
   "source": [
    "**Great!** Our choice of $C_0$ seems to work. We have a few neat approximations on $\\ln$ which were done in less then 10 steps."
   ]
  },
  {
   "cell_type": "markdown",
   "metadata": {
    "collapsed": true
   },
   "source": [
    "Now, we are going to compute the average number of steps of ```approxSteps``` for random numbers from the interval $(0,10)$. We will do it for evenly spaced values $C$ and later we will compare it with our $C_0$. "
   ]
  },
  {
   "cell_type": "code",
   "execution_count": 15,
   "metadata": {},
   "outputs": [
    {
     "data": {
      "image/png": "[encoded data removed]",
      "text/plain": [
       "<matplotlib.figure.Figure at 0x1d984bff4a8>"
      ]
     },
     "metadata": {},
     "output_type": "display_data"
    },
    {
     "name": "stdout",
     "output_type": "stream",
     "text": [
      "The exact values:  [6.08, 4.944, 4.114, 3.494, 3.379, 3.431, 3.61, 4.205, 5.307, 15.259]\n"
     ]
    }
   ],
   "source": [
    "eps = 0.001;\n",
    "maxSteps = 1000;\n",
    "\n",
    "sampleSize = 1000;\n",
    "begin = 0;\n",
    "end = 10;\n",
    "sample = np.random.uniform(begin, end, sampleSize);\n",
    "\n",
    "numberOfCs = 10;\n",
    "Cs = np.linspace(1, 2, numberOfCs);\n",
    "\n",
    "def setOfNumberOfStepsForSample(eps, maxSteps, C, sample):\n",
    "    def numberOfSteps(x):\n",
    "        return setCenterAndApprox(x, eps, maxSteps, C)[1]\n",
    "    return list(map(numberOfSteps, sample))             \n",
    "\n",
    "def setOfAvgNumberOfStepsForSample(eps, maxSteps, Cs, sample):\n",
    "    def avgNumberOfStepsForSample(C):\n",
    "        setOfNumbers = setOfNumberOfStepsForSample(eps, maxSteps, C, sample);\n",
    "        return float(sum(setOfNumbers) / (len(setOfNumbers)))\n",
    "    return list(map(avgNumberOfStepsForSample, Cs))\n",
    "\n",
    "ListOfavgNumberOfSteps = setOfAvgNumberOfStepsForSample(eps, maxSteps, Cs, sample);\n",
    "\n",
    "ax = plt.subplots(figsize=(15, 4)) \n",
    "\n",
    "widthOfBar = 0.9 / numberOfCs;\n",
    "plt.bar(Cs, ListOfavgNumberOfSteps, label='avg number of steps', width = widthOfBar)\n",
    "    \n",
    "plt.xlabel(\"value of $C$\")\n",
    "plt.ylabel(\"avg number of steps\")\n",
    "plt.title('Average number of steps for different $C\\in (1, 2)$')\n",
    "plt.legend()\n",
    "plt.show()\n",
    "\n",
    "print('The exact values: ', ListOfavgNumberOfSteps)"
   ]
  },
  {
   "cell_type": "markdown",
   "metadata": {},
   "source": [
    "We see that appropriate choice of $C$ decreases the number of steps drastically. For $C$ close to $1.5$, the average number of steps required to compute $\\ln$ with an error less then $0.001$ is smaller than $4$ steps. From the above chart, we see that the best $C$ is between $1.4$ and $1.6$. Hence, we will check the average number of steps for these $C$ but with a smaller error $\\varepsilon$."
   ]
  },
  {
   "cell_type": "code",
   "execution_count": 16,
   "metadata": {},
   "outputs": [
    {
     "data": {
      "image/png": "[encoded data removed]",
      "text/plain": [
       "<matplotlib.figure.Figure at 0x1d984ba8f60>"
      ]
     },
     "metadata": {},
     "output_type": "display_data"
    },
    {
     "name": "stdout",
     "output_type": "stream",
     "text": [
      "The exact values:  [ 0.186  0.175  0.161  0.154  0.17   0.197  0.237  0.272  0.341  0.408]\n"
     ]
    }
   ],
   "source": [
    "eps = 0.000001;\n",
    "maxSteps = 1000;\n",
    "\n",
    "sampleSize = 1000;\n",
    "begin = 0;\n",
    "end = 10;\n",
    "sample = np.random.uniform(begin, end, sampleSize);\n",
    "\n",
    "numberOfCs = 10;\n",
    "CMin = 1.4;\n",
    "CMax = 1.6;\n",
    "Cs = np.linspace(CMin, CMax, numberOfCs);\n",
    "\n",
    "ListOfavgNumberOfSteps = np.subtract(setOfAvgNumberOfStepsForSample(eps, maxSteps, Cs, sample), 7.4);\n",
    "\n",
    "ax = plt.subplots(figsize=(15, 4)) \n",
    "\n",
    "widthOfBar = 0.9 * (CMax - CMin) / numberOfCs;\n",
    "plt.bar(Cs, ListOfavgNumberOfSteps, label='avg number of steps (minus $7.4$ steps)', width = widthOfBar)\n",
    "    \n",
    "plt.xlabel(\"value of $C$\")\n",
    "plt.ylabel(\"avg number of steps (minus $7.4$ steps)\")\n",
    "plt.title('Average number of steps for different $C\\in (1.4, 1.6)$')\n",
    "plt.legend()\n",
    "plt.show()\n",
    "\n",
    "print('The exact values: ', ListOfavgNumberOfSteps)"
   ]
  },
  {
   "cell_type": "markdown",
   "metadata": {},
   "source": [
    "For the sake of the readability, we subtracted $7.4$ steps from averages in the above chart. We notice that the above chart is little asymmetric. It is a good indicator for us because $C_0 = \\frac{2e}{1 + e}\\approx 1.462$ which is less than $1.5$. "
   ]
  },
  {
   "cell_type": "markdown",
   "metadata": {},
   "source": [
    "**Finally,** we test our choice of $C_0$ against other numbers $C\\in (1.45, 1.5)$. We will see if there is a single value $x$ and a number $C$ such that ```setCenterAndApprox``` terminates in less steps for $C$ than $C_0$. We check it with the fixed error $\\varepsilon = 0.00001$."
   ]
  },
  {
   "cell_type": "code",
   "execution_count": 17,
   "metadata": {},
   "outputs": [
    {
     "name": "stdout",
     "output_type": "stream",
     "text": [
      "Good work! C0 looks to be the best one.\n"
     ]
    }
   ],
   "source": [
    "eps = 0.00001;\n",
    "maxSteps = 1000;\n",
    "\n",
    "sampleSize = 1000;\n",
    "begin = 0;\n",
    "end = 10;\n",
    "sample = np.random.uniform(begin, end, sampleSize);\n",
    "\n",
    "C0 = 2 * np.exp(1) / (1 + np.exp(1));\n",
    "numberOfCs = 20;\n",
    "CMin = 1.45;\n",
    "CMax = 1.5;\n",
    "Cs = np.linspace(CMin, CMax, numberOfCs);\n",
    "\n",
    "def compareStepsC0vsC(x, eps, maxSteps, C):\n",
    "    stepsC = setCenterAndApprox(x, eps, maxSteps, C)[1];\n",
    "    stepsC0 = setCenterAndApprox(x, eps, maxSteps, C0)[1];\n",
    "    if (stepsC < stepsC0): \n",
    "        return 0\n",
    "    else: \n",
    "        return 1\n",
    "\n",
    "def compareStepsC0vsAllOnSample(eps, maxSteps, Cs, sample):\n",
    "    finalOutput = 1;\n",
    "    for C in Cs:\n",
    "        for x in sample:\n",
    "            output = compareStepsC0vsC(x, eps, maxSteps, C);\n",
    "            if (output == 0):\n",
    "                print('For x = ' + str(x) + ', the algorithm terminates in less steps for C = ' + str(C) + ' than for C0')\n",
    "            finalOutput = finalOutput * output \n",
    "    if (finalOutput == 1):\n",
    "        return print('Good work! C0 looks to be the best one.')\n",
    "    else:\n",
    "        return print('Algorithm terminates quicker for the above valuse')\n",
    "        \n",
    "compareStepsC0vsAllOnSample(eps, maxSteps, Cs, sample);"
   ]
  },
  {
   "cell_type": "markdown",
   "metadata": {},
   "source": [
    "**Conclusion.** For any $x$, the procedure ```setCenterAndApprox``` with $C_0$ outruns all other numbers $C$. Thus, in order to compute $\\ln(x)$ using Taylor series, it is best to start with $p = e^K$, where $K$ is such that $x\\in [C_0e^{K-1}, C_0e^{K})$."
   ]
  }
 ],
 "metadata": {
  "kernelspec": {
   "display_name": "Python 3",
   "language": "python",
   "name": "python3"
  },
  "language_info": {
   "codemirror_mode": {
    "name": "ipython",
    "version": 3
   },
   "file_extension": ".py",
   "mimetype": "text/x-python",
   "name": "python",
   "nbconvert_exporter": "python",
   "pygments_lexer": "ipython3",
   "version": "3.6.3"
  }
 },
 "nbformat": 4,
 "nbformat_minor": 2
}
