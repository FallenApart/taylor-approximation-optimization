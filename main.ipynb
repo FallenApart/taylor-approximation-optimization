{
 "cells": [
  {
   "cell_type": "markdown",
   "metadata": {},
   "source": [
    "## An approximation of the natural logarithm using Taylor series. Optimizing the algorithm."
   ]
  },
  {
   "cell_type": "markdown",
   "metadata": {},
   "source": [
    "**Simple problem.** Given $x>0$ approximate the natural logarithm at $x$ with a fixed error $\\varepsilon$ using Taylor series."
   ]
  },
  {
   "cell_type": "markdown",
   "metadata": {},
   "source": [
    "**Taylor Series of the natural logarithm.** If $p>0$, then for any $x\\in (0,2p)$ we have that\n",
    "$$\\ln(x)=\\ln(p) - \\sum_{i=1}^\\infty\\frac{1}{i}\\left(\\frac{p-x}{p}\\right)^i.$$\n",
    "Thus, the radius of convergence of the above power series is $p$."
   ]
  },
  {
   "cell_type": "markdown",
   "metadata": {},
   "source": [
    "**Important rule.** By looking at the above formula, we notice that the very first term is $\\ln(p)$. Obviously, we forbid ourselfs to use logarithm in this series. Hence, we constrain ourselfs to the $p$ of the form $e^K$, where $K$ can be any integer."
   ]
  },
  {
   "cell_type": "markdown",
   "metadata": {},
   "source": [
    "**Taylor Theorem.** Let $U$ be an open interval of real numbers ant let $f:U\\to\\mathbb{R}$ be an analitic function. For any $p\\in U$ there is an inteval $W\\subset U$ containing $p$ such that for any natural number $n\\geqslant 1$ there is a function $R_n:W\\to\\mathbb{R}$ such that for any $x\\in W$ \n",
    "$$f(x)=\\sum_{i=0}^n\\frac{f^{(i)}(p)}{i!}(x-p)^i+R_n(x)$$\n",
    "and $\\displaystyle{\\lim_{n \\to \\infty} R_n(x) = 0}$.\n",
    "\n",
    "Maximal such $W$ is called the interval of convergence and it is of the form $(p-r, p+r)$, where $r\\in (0, \\infty ]$ is the radius of convergence of the power series\n",
    "$$\\sum_{i=0}^\\infty\\frac{f^{(i)}(p)}{i!}(x-p)^i$$"
   ]
  },
  {
   "cell_type": "markdown",
   "metadata": {},
   "source": [
    "**Error estimation problem.** Due to the above version of Taylor Theorem, we only know that for any natural number $n$\n",
    "$$\\left|f(x) - \\sum_{i=0}^n\\frac{f^{(i)}(p)}{i!}(x-p)^i \\right|\\leqslant \\left|R_n(x)\\right|$$\n",
    "and since $\\displaystyle{\\lim_{n \\to \\infty} R_n(x) = 0}$, we have that the left hand side converges to $0$ when $n\\to\\infty$. Thus, the series\n",
    "$$\\sum_{i=0}^\\infty\\frac{f^{(i)}(p)}{i!}(x-p)^i$$\n",
    "converges to $f(x)$, but a priori we do not know nothing about how fast is this convergence. The following proposition gives us a sufficent conditions for an effective estimation on the rest $R_n(x)$."
   ]
  },
  {
   "cell_type": "markdown",
   "metadata": {},
   "source": [
    "**Proposition.** Assume that $$ \\sum_{i=1}^\\infty b_i $$ is a series of real numbers convergent to $S$. For each $n\\in\\mathbb{N}$ let $S_n$ denote the $n$-th partial sum of this series and let $R_n = S - S_n$ be the rest. If for some $n\\in\\mathbb{N}$ there is a real number $\\alpha\\in (0,1)$ such that $|b_{i+1}|\\leqslant\\alpha |b_i|$ for all $i\\geqslant n$, then $$|R_n|\\leqslant\\frac{|b_{n+1}|}{1-\\alpha}.$$"
   ]
  },
  {
   "cell_type": "markdown",
   "metadata": {},
   "source": [
    "**Error estimation.** Let us apply the above proposition to the our case of the natural logarithm. Assume that $p>0$ and $x\\in (0,2p)$ are fixed. Thus, we have a series $$\\sum_{i=1}^\\infty b_i,$$ where \n",
    "$$b_i = \\frac{1}{i}\\left(\\frac{p-x}{p}\\right)^i.$$ \n",
    "Hence, \n",
    "$$\\frac{|b_{i+1}|}{|b_i|} = \\frac{i}{i+1}\\left|\\frac{x-p}{p}\\right|=\\frac{i}{i+1}\\left|\\frac{x}{p}-1\\right|.$$ \n",
    "Notice yet that\n",
    "$$x\\in(0,2p)\\implies \\frac{x}{p}\\in (0,2) \\implies \\frac{x}{p}-1\\in(-1,1) \\implies \\left|\\frac{x}{p}-1\\right|<1\\implies \\frac{i}{i+1}\\left|\\frac{x}{p}-1\\right|<1.$$\n",
    "As a result, there is\n",
    "$$\\alpha = \\left|\\frac{x}{p}-1\\right|<1$$\n",
    "such that $|b_{i+1}|\\leqslant \\alpha |b_i|$ for all $i\\geqslant 1$. By applying the above proposition we get that\n",
    "$$|R_n|\\leqslant \\frac{|b_{n+1}|}{1-\\alpha}$$\n",
    "for all $n\\geqslant 1$. But since $|b_{n}| = \\frac{\\alpha^n}{n}$, we obtain that\n",
    "$$|R_n|\\leqslant \\frac{\\alpha^{n+1}}{(n+1)(1-\\alpha)}.$$"
   ]
  },
  {
   "cell_type": "markdown",
   "metadata": {},
   "source": [
    "**Main algorithm.** From the above analysis, we obtain the following algorithm which computes $\\ln(x)$ with an error less than $\\varepsilon$ starting from $p=e^K$. It also outputs the number of steps required to achieve desired approximation."
   ]
  },
  {
   "cell_type": "code",
   "execution_count": 11,
   "metadata": {
    "collapsed": true
   },
   "outputs": [],
   "source": [
    "import numpy as np\n",
    "\n",
    "def approxSteps(x, K, eps, maxSteps):\n",
    "    p = np.exp(K);\n",
    "    factor = (p-x)/p;\n",
    "    alpha = abs(factor);\n",
    "    sum = K;\n",
    "    n = 0;\n",
    "    bn = factor;\n",
    "    bound = abs(bn)/(1-alpha);\n",
    "    while (bound > eps):\n",
    "        n = n + 1;\n",
    "        sum = sum - bn;\n",
    "        bn = bn*(n/(n+1))*factor;\n",
    "        bound = abs(bn)/(1-alpha);\n",
    "        if (n >= maxSteps):\n",
    "            return 'Overflow!'\n",
    "    return [sum, n]"
   ]
  },
  {
   "cell_type": "markdown",
   "metadata": {},
   "source": [
    "For the sake of readability, let us format the output to a more convenient form."
   ]
  },
  {
   "cell_type": "code",
   "execution_count": 12,
   "metadata": {
    "collapsed": true
   },
   "outputs": [],
   "source": [
    "def approxStepsMsg(x, K, eps, maxSteps):\n",
    "    output = approxSteps(x, K, eps, maxSteps);\n",
    "    if isinstance(output, str):\n",
    "        return print(output + ' In order to compute ln(' + str(x) + ') with an error less than ' + str(eps) + ' starting from p = exp(' + str(K) + ') more than ' + str(maxSteps) + ' are required.')\n",
    "    else:\n",
    "        sum = output[0];\n",
    "        n = output[1];\n",
    "        return print('Starting from p = exp(' + str(K) + '), we get that ln(' + str(x) + ') = ' + str(sum) + ' with an error less than ' + str(eps) + ' and it was is done in ' + str(n) + ' steps.')"
   ]
  },
  {
   "cell_type": "code",
   "execution_count": 13,
   "metadata": {},
   "outputs": [
    {
     "name": "stdout",
     "output_type": "stream",
     "text": [
      "Starting from p = exp(0), we get that ln(1.9) = 0.641805574241 with an error less than 0.001 and it was is done in 50 steps.\n",
      "Starting from p = exp(1), we get that ln(3.2) = 1.16312033692 with an error less than 0.0001 and it was is done in 4 steps.\n"
     ]
    }
   ],
   "source": [
    "approxStepsMsg(1.9, 0, 0.001, 100);\n",
    "approxStepsMsg(3.2, 1, 0.0001, 100);"
   ]
  },
  {
   "cell_type": "markdown",
   "metadata": {},
   "source": [
    "**$x$ must be in $(0,2p)$.** In fact, for $x > 2p$ the series\n",
    "$$\\sum_{i=1}^\\infty\\frac{1}{i}\\left(\\frac{p-x}{p}\\right)^i$$\n",
    "diverges and so we have to make sure that $x > 2e^K = 2p$ when we call procedure ```approxSteps```. For example if $x=4,5$, then we have to take at least $K=1.$ Below we have a comparison of intervals of convergence for $p=1$ and $p=e^1$. "
   ]
  },
  {
   "cell_type": "code",
   "execution_count": 33,
   "metadata": {},
   "outputs": [
    {
     "data": {
      "image/png": "[encoded data removed]",
      "text/plain": [
       "<matplotlib.figure.Figure at 0x1dfae52dfd0>"
      ]
     },
     "metadata": {},
     "output_type": "display_data"
    }
   ],
   "source": [
    "import matplotlib.pyplot as plt\n",
    "\n",
    "x = np.linspace(0.1, 5,200)\n",
    "\n",
    "ax = plt.subplots(figsize=(15, 4)) \n",
    "\n",
    "plt.subplot(1, 2, 1)\n",
    "\n",
    "plt.plot(x, np.log(x), label='natural logarithm $\\ln$')\n",
    "plt.plot([2, 0], [0, 0], color = 'g', linewidth = 3, label = 'interval of convergence')\n",
    "plt.scatter([1],[0], marker = '|', s = 300, color = 'r', label = '$p = 1$')\n",
    "plt.scatter([4.5],[0], marker = '|', s = 300, color = 'c', label = '$x = 4.5$')\n",
    "\n",
    "ax = plt.gca()\n",
    "\n",
    "ax.spines['right'].set_color('none')\n",
    "ax.spines['top'].set_color('none')\n",
    "ax.spines['left'].set_position('zero')\n",
    "ax.spines['bottom'].set_position('zero')\n",
    "ax.grid(True, which='both')\n",
    "\n",
    "plt.xticks(np.linspace(0,6,7))\n",
    "\n",
    "plt.title('Point $x$ is outside the interval of convergence')\n",
    "plt.legend(loc = 4)\n",
    "\n",
    "plt.subplot(1, 2, 2)\n",
    "\n",
    "plt.plot(x, np.log(x), label='natural logarithm $\\ln$')\n",
    "plt.plot([2*np.exp(1), 0], [0, 0], color = 'g', linewidth = 3, label = 'interval of convergence')\n",
    "plt.scatter([np.exp(1)],[0], marker = '|', s = 300, color = 'r', label = '$p = e^1$')\n",
    "plt.scatter([4.5],[0], marker = '|', s = 300, color = 'c', label = '$x = 4.5$')\n",
    "\n",
    "ax = plt.gca()\n",
    "\n",
    "ax.spines['right'].set_color('none')\n",
    "ax.spines['top'].set_color('none')\n",
    "ax.spines['left'].set_position('zero')\n",
    "ax.spines['bottom'].set_position('zero')\n",
    "ax.grid(True, which='both')\n",
    "\n",
    "plt.xticks(np.linspace(0,6,7))\n",
    "\n",
    "plt.title('Point $x$ is inside the interval of convergence')\n",
    "plt.legend(loc = 4)\n",
    "\n",
    "plt.show()"
   ]
  },
  {
   "cell_type": "code",
   "execution_count": 15,
   "metadata": {},
   "outputs": [
    {
     "name": "stdout",
     "output_type": "stream",
     "text": [
      "Starting from p = exp(1), we get that ln(4.5) = 1.50409449458 with an error less than 0.0001 and it was is done in 17 steps.\n"
     ]
    }
   ],
   "source": [
    "approxStepsMsg(4.5, 1, 0.0001, 100);"
   ]
  },
  {
   "cell_type": "markdown",
   "metadata": {
    "collapsed": true
   },
   "source": [
    "**Worst-case scenarios.** If $x$ is close to the boundry of the interval of convergence $(0,2p)$, then $\\alpha$ is close to $1$ and thus the Taylor series converges very slowly. In fact, for $x=1.999$ and $p=e^0=1$ we need over $1000$ steps to get the approximation with an error less then $\\varepsilon = 0.1$, which is quite poor."
   ]
  },
  {
   "cell_type": "code",
   "execution_count": 36,
   "metadata": {},
   "outputs": [
    {
     "name": "stdout",
     "output_type": "stream",
     "text": [
      "Overflow! In order to compute ln(1.999) with an error less than 0.1 starting from p = exp(0) more than 1000 are required.\n",
      "Starting from p = exp(0), we get that ln(1.999) = 0.692597018308 with an error less than 0.1 and it was is done in 1744 steps.\n"
     ]
    }
   ],
   "source": [
    "approxStepsMsg(1.999, 0, 0.1, 1000);\n",
    "approxStepsMsg(1.999, 0, 0.1, 10000);"
   ]
  },
  {
   "cell_type": "markdown",
   "metadata": {},
   "source": [
    " A similar situation happens for a very small $x$."
   ]
  },
  {
   "cell_type": "code",
   "execution_count": 37,
   "metadata": {},
   "outputs": [
    {
     "name": "stdout",
     "output_type": "stream",
     "text": [
      "Overflow! In order to compute ln(0.001) with an error less than 0.01 starting from p = exp(0) more than 1000 are required.\n",
      "Starting from p = exp(0), we get that ln(0.001) = -6.89972756649 with an error less than 0.01 and it was is done in 3384 steps.\n"
     ]
    }
   ],
   "source": [
    "approxStepsMsg(0.001, 0, 0.01, 1000);\n",
    "approxStepsMsg(0.001, 0, 0.01, 10000);"
   ]
  },
  {
   "cell_type": "markdown",
   "metadata": {},
   "source": [
    "**Optimization.** From the previous examles, we see that for $x$ close "
   ]
  }
 ],
 "metadata": {
  "kernelspec": {
   "display_name": "Python 3",
   "language": "python",
   "name": "python3"
  },
  "language_info": {
   "codemirror_mode": {
    "name": "ipython",
    "version": 3
   },
   "file_extension": ".py",
   "mimetype": "text/x-python",
   "name": "python",
   "nbconvert_exporter": "python",
   "pygments_lexer": "ipython3",
   "version": "3.6.3"
  }
 },
 "nbformat": 4,
 "nbformat_minor": 2
}
